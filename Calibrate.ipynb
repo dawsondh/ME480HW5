{
 "cells": [
  {
   "cell_type": "code",
   "execution_count": 3,
   "metadata": {},
   "outputs": [
    {
     "data": {
      "text/plain": [
       "True"
      ]
     },
     "execution_count": 3,
     "metadata": {},
     "output_type": "execute_result"
    }
   ],
   "source": [
    "from solid import *\n",
    "from solid.objects import *\n",
    "from solid.utils import *\n",
    "\n",
    "d1=5\n",
    "d2=10\n",
    "c1= circle(d2)-circle(d1)\n",
    "\n",
    "scad_render_to_file(c1)\n"
   ]
  },
  {
   "cell_type": "code",
   "execution_count": 4,
   "metadata": {},
   "outputs": [],
   "source": [
    "def basiccyl(din,dout):\n",
    "    din=float(din)\n",
    "    dout=float(dout)\n",
    "    cyl=circle(dout/2)-circle(din/2)\n",
    "    scad_render_to_file(cyl)"
   ]
  },
  {
   "cell_type": "code",
   "execution_count": 5,
   "metadata": {},
   "outputs": [],
   "source": [
    "def overlap(dins,wall):\n",
    "    dins[0]=float(dins[0])\n",
    "    dins[1]=float(dins[1])\n",
    "    wall=float(wall)\n",
    "    cyl1=circle(dins[0]/2+wall)-circle(dins[0]/2)\n",
    "    cyl2=circle(dins[1]/2+wall)-circle(dins[1]/2)\n",
    "    cyls=cyl1+right(dins[0]/2+dins[1]/2+wall)(cyl2)\n",
    "    scad_render_to_file(cyls)"
   ]
  },
  {
   "cell_type": "code",
   "execution_count": 4,
   "metadata": {},
   "outputs": [],
   "source": [
    "def posts(ds,sep,h):\n",
    "    base=cube([,max(ds)+2])"
   ]
  },
  {
   "cell_type": "code",
   "execution_count": null,
   "metadata": {},
   "outputs": [],
   "source": []
  },
  {
   "cell_type": "code",
   "execution_count": null,
   "metadata": {},
   "outputs": [],
   "source": []
  }
 ],
 "metadata": {
  "kernelspec": {
   "display_name": "Python 3",
   "language": "python",
   "name": "python3"
  },
  "language_info": {
   "codemirror_mode": {
    "name": "ipython",
    "version": 3
   },
   "file_extension": ".py",
   "mimetype": "text/x-python",
   "name": "python",
   "nbconvert_exporter": "python",
   "pygments_lexer": "ipython3",
   "version": "3.7.3"
  }
 },
 "nbformat": 4,
 "nbformat_minor": 2
}
