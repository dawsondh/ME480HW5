{
 "cells": [
  {
   "cell_type": "code",
   "execution_count": 19,
   "metadata": {},
   "outputs": [
    {
     "data": {
      "text/plain": [
       "True"
      ]
     },
     "execution_count": 19,
     "metadata": {},
     "output_type": "execute_result"
    }
   ],
   "source": [
    "from solid import *\n",
    "from solid.objects import *\n",
    "from solid.utils import *\n",
    "\n",
    "d1=5\n",
    "d2=10\n",
    "c1= circle(d2)-circle(d1)\n",
    "\n",
    "scad_render_to_file(c1,file_header=f'$fn = {100};')\n"
   ]
  },
  {
   "cell_type": "code",
   "execution_count": 4,
   "metadata": {},
   "outputs": [],
   "source": [
    "def basiccyl(din,dout):\n",
    "    din=float(din)\n",
    "    dout=float(dout)\n",
    "    cyl=circle(dout/2)-circle(din/2)\n",
    "    scad_render_to_file(cyl,file_header=f'$fn = {100};')"
   ]
  },
  {
   "cell_type": "code",
   "execution_count": 5,
   "metadata": {},
   "outputs": [],
   "source": [
    "def overlap(dins,wall):\n",
    "    dins[0]=float(dins[0])\n",
    "    dins[1]=float(dins[1])\n",
    "    wall=float(wall)\n",
    "    cyl1=circle(dins[0]/2+wall)-circle(dins[0]/2)\n",
    "    cyl2=circle(dins[1]/2+wall)-circle(dins[1]/2)\n",
    "    cyls=cyl1+right(dins[0]/2+dins[1]/2+wall)(cyl2)\n",
    "    scad_render_to_file(cyls,file_header=f'$fn = {100};')"
   ]
  },
  {
   "cell_type": "code",
   "execution_count": 55,
   "metadata": {},
   "outputs": [],
   "source": [
    "def posts(ds,sep,h):\n",
    "    k=1\n",
    "    pos=0\n",
    "    base=down(2.5)(left(ds[0]/2+2)(cube([sum(ds)+sep*len(ds)+4,max(ds)+2,5],True)))\n",
    "    cyls=(cylinder(h=h,d=ds[0]))\n",
    "    while k < len(ds):\n",
    "        pos=pos+ds[k]/2+ds[k-1]/2+sep*k+1\n",
    "        post=right(pos)(cylinder(h=h,d=ds[k]))\n",
    "        cyls=post+cyls\n",
    "        k=k+1\n",
    "    body=base+cyls\n",
    "    scad_render_to_file(body,file_header=f'$fn = {100};')"
   ]
  },
  {
   "cell_type": "code",
   "execution_count": 56,
   "metadata": {},
   "outputs": [],
   "source": [
    "posts([1,2,3,4,5],1,5)"
   ]
  },
  {
   "cell_type": "code",
   "execution_count": null,
   "metadata": {},
   "outputs": [],
   "source": []
  }
 ],
 "metadata": {
  "kernelspec": {
   "display_name": "Python 3",
   "language": "python",
   "name": "python3"
  },
  "language_info": {
   "codemirror_mode": {
    "name": "ipython",
    "version": 3
   },
   "file_extension": ".py",
   "mimetype": "text/x-python",
   "name": "python",
   "nbconvert_exporter": "python",
   "pygments_lexer": "ipython3",
   "version": "3.7.3"
  }
 },
 "nbformat": 4,
 "nbformat_minor": 2
}
