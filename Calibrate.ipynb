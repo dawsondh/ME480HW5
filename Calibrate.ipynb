{
 "cells": [
  {
   "cell_type": "code",
   "execution_count": 1,
   "metadata": {},
   "outputs": [
    {
     "name": "stdout",
     "output_type": "stream",
     "text": [
      "\n",
      "\n",
      "Unable to load euclid library. Skipping euclid-based tests with exception: \n",
      "invalid syntax (euclid.py, line 137)\n",
      "\n"
     ]
    },
    {
     "data": {
      "text/plain": [
       "True"
      ]
     },
     "execution_count": 1,
     "metadata": {},
     "output_type": "execute_result"
    }
   ],
   "source": [
    "from solid import *\n",
    "from solid.objects import *\n",
    "from solid.utils import *\n",
    "\n",
    "r1=5\n",
    "r2=10\n",
    "c1= circle(r2)-circle(r1)\n",
    "\n",
    "scad_render_to_file(c1)\n"
   ]
  },
  {
   "cell_type": "code",
   "execution_count": 2,
   "metadata": {},
   "outputs": [],
   "source": [
    "def basiccyl(rin,rout):\n",
    "    rin=float(rin)\n",
    "    rout=float(rout)\n",
    "    cyl=circle(rout)-circle(rin)\n",
    "    scad_render_to_file(cyl)"
   ]
  },
  {
   "cell_type": "code",
   "execution_count": 3,
   "metadata": {},
   "outputs": [],
   "source": [
    "def overlap(dins,wall):\n",
    "    dins[0]=float(dins[0])\n",
    "    dins[1]=float(dins[1])\n",
    "    wall=float(wall)\n",
    "    cyls=circle(dins[0]/2+wall)-circle(dins[0]/2)+right(dins[0]/2+dins[1]/2+wall)(circle(dins[1]/2+wall)-circle(dins[1]/2))\n",
    "    scad_render_to_file(cyls)"
   ]
  },
  {
   "cell_type": "code",
   "execution_count": 4,
   "metadata": {},
   "outputs": [],
   "source": [
    "overlap([1,2],.8)"
   ]
  },
  {
   "cell_type": "code",
   "execution_count": null,
   "metadata": {},
   "outputs": [],
   "source": []
  },
  {
   "cell_type": "code",
   "execution_count": null,
   "metadata": {},
   "outputs": [],
   "source": []
  }
 ],
 "metadata": {
  "kernelspec": {
   "display_name": "Python 3",
   "language": "python",
   "name": "python3"
  },
  "language_info": {
   "codemirror_mode": {
    "name": "ipython",
    "version": 3
   },
   "file_extension": ".py",
   "mimetype": "text/x-python",
   "name": "python",
   "nbconvert_exporter": "python",
   "pygments_lexer": "ipython3",
   "version": "3.7.3"
  }
 },
 "nbformat": 4,
 "nbformat_minor": 2
}
