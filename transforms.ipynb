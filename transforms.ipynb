{
 "cells": [
  {
   "cell_type": "code",
   "execution_count": 30,
   "metadata": {},
   "outputs": [
    {
     "data": {
      "text/plain": [
       "True"
      ]
     },
     "execution_count": 30,
     "metadata": {},
     "output_type": "execute_result"
    }
   ],
   "source": [
    "from solid import *\n",
    "from math import sin,cos,pi\n",
    "a=20*pi/180\n",
    "b=10*pi/180\n",
    "c=30*pi/180\n",
    "\n",
    "\n",
    "cube=cube(center=True)\n",
    "\n",
    "body=multmatrix(m=[[cos(a)*cos(c)-cos(b)*sin(a)*sin(c), -cos(a)*sin(c)-cos(b)*cos(c)*sin(a), sin(a)*sin(b)],\n",
    "              [cos(c)*sin(a)+cos(a)*cos(b)*sin(c), cos(a)*cos(b)*cos(c)-sin(a)*sin(c), -cos(a)*sin(b)],\n",
    "              [sin(b)*sin(c),cos(c)*sin(b),cos(b)]])(cube)\n",
    "\n",
    "scad_render_to_file(body,file_header=f'$fn = {100};')"
   ]
  },
  {
   "cell_type": "code",
   "execution_count": 27,
   "metadata": {},
   "outputs": [
    {
     "data": {
      "text/plain": [
       "True"
      ]
     },
     "execution_count": 27,
     "metadata": {},
     "output_type": "execute_result"
    }
   ],
   "source": [
    "\n",
    "move=translate([-5,-5,0])(cube)\n",
    "spin=multmatrix(m=[[cos(a)*cos(c)-cos(b)*sin(a)*sin(c), -cos(a)*sin(c)-cos(b)*cos(c)*sin(a), sin(a)*sin(b)],\n",
    "              [cos(c)*sin(a)+cos(a)*cos(b)*sin(c), cos(a)*cos(b)*cos(c)-sin(a)*sin(c), -cos(a)*sin(b)],\n",
    "              [sin(b)*sin(c),cos(c)*sin(b),cos(b)]])(move)\n",
    "done=translate([5,5,0])(spin)\n",
    "scad_render_to_file(done,file_header=f'$fn = {100};')"
   ]
  },
  {
   "cell_type": "code",
   "execution_count": 42,
   "metadata": {},
   "outputs": [
    {
     "data": {
      "text/plain": [
       "True"
      ]
     },
     "execution_count": 42,
     "metadata": {},
     "output_type": "execute_result"
    }
   ],
   "source": [
    "\n",
    "skewx=multmatrix(m=[[1,0,.5,0],\n",
    "                    [0,1,0,0],\n",
    "                    [0,0,1,0],\n",
    "                    [0,0,0,1]])(cube)\n",
    "#skewx=multmatrix(m=[[1,.5],\n",
    "#                    [0,1]])(cube)\n",
    "scad_render_to_file(skewx,file_header=f'$fn = {100};')\n"
   ]
  },
  {
   "cell_type": "code",
   "execution_count": 43,
   "metadata": {},
   "outputs": [
    {
     "data": {
      "text/plain": [
       "True"
      ]
     },
     "execution_count": 43,
     "metadata": {},
     "output_type": "execute_result"
    }
   ],
   "source": [
    "skewy=multmatrix(m=[[1,0,0,0],\n",
    "                    [0,1,0.5,0],\n",
    "                    [0,0,1,0],\n",
    "                    [0,0,0,1]])(skewx)\n",
    "scad_render_to_file(skewy,file_header=f'$fn = {100};')"
   ]
  },
  {
   "cell_type": "code",
   "execution_count": 44,
   "metadata": {},
   "outputs": [
    {
     "data": {
      "text/plain": [
       "True"
      ]
     },
     "execution_count": 44,
     "metadata": {},
     "output_type": "execute_result"
    }
   ],
   "source": [
    "skewz=multmatrix(m=[[1,0,0,0],\n",
    "                    [0,1,0,0],\n",
    "                    [0.5,0,1,0],\n",
    "                    [0,0,0,1]])(skewy)\n",
    "scad_render_to_file(skewz,file_header=f'$fn = {100};')"
   ]
  },
  {
   "cell_type": "code",
   "execution_count": null,
   "metadata": {},
   "outputs": [],
   "source": []
  }
 ],
 "metadata": {
  "kernelspec": {
   "display_name": "Python 3",
   "language": "python",
   "name": "python3"
  },
  "language_info": {
   "codemirror_mode": {
    "name": "ipython",
    "version": 3
   },
   "file_extension": ".py",
   "mimetype": "text/x-python",
   "name": "python",
   "nbconvert_exporter": "python",
   "pygments_lexer": "ipython3",
   "version": "3.7.3"
  }
 },
 "nbformat": 4,
 "nbformat_minor": 2
}
